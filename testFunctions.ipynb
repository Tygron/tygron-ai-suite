{
 "cells": [
  {
   "cell_type": "code",
   "execution_count": null,
   "id": "d69a48a1-b800-400e-90c0-72350f5eff7a",
   "metadata": {},
   "outputs": [],
   "source": [
    "from unittest import TextTestRunner, defaultTestLoader\n",
    "from testFunctions import TestFunction\n",
    "import logging\n",
    "\n",
    "logging.basicConfig(level=logging.WARNING)\n",
    "\n",
    "TextTestRunner().run(defaultTestLoader.loadTestsFromTestCase(TestFunction))"
   ]
  },
  {
   "cell_type": "code",
   "execution_count": null,
   "id": "e6f73fad-7a1d-4f6f-8d49-ec5ac6989e59",
   "metadata": {},
   "outputs": [],
   "source": []
  }
 ],
 "metadata": {
  "kernelspec": {
   "display_name": "Python 3 (ipykernel)",
   "language": "python",
   "name": "python3"
  },
  "language_info": {
   "codemirror_mode": {
    "name": "ipython",
    "version": 3
   },
   "file_extension": ".py",
   "mimetype": "text/x-python",
   "name": "python",
   "nbconvert_exporter": "python",
   "pygments_lexer": "ipython3",
   "version": "3.11.11"
  }
 },
 "nbformat": 4,
 "nbformat_minor": 5
}
