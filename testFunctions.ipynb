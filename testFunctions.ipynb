{
 "cells": [
  {
   "cell_type": "code",
   "execution_count": 1,
   "id": "d69a48a1-b800-400e-90c0-72350f5eff7a",
   "metadata": {},
   "outputs": [
    {
     "name": "stderr",
     "output_type": "stream",
     "text": [
      "WARNING:inference_training:More classes found than expected: 4000 vs 6\n",
      "WARNING:inference_training:More classes are defined in the label files than the trained model can handle.\n",
      "WARNING:inference_training:Please set the autoLimitLabel option of Configuration to True\n",
      "WARNING:inference_training:More classes found than expected: 555 vs 6\n",
      "WARNING:inference_training:More classes are defined in the label files than the trained model can handle.\n",
      "WARNING:inference_training:Please set the autoLimitLabel option of Configuration to True\n",
      ".WARNING:inference_training:The datasets directory does not exist: test_assets/nonexisting/train\n",
      "WARNING:inference_training:Please adjust the configured dataset directory in the configuration file!\n",
      "WARNING:inference_training:The datasets directory does not exist: test_assets/nonexisting/test\n",
      "WARNING:inference_training:Please adjust the configured dataset directory in the configuration file!\n",
      "WARNING:inference_training:No files were found in the Training dataset\n",
      "WARNING:inference_training:No files were found in the Test dataset\n",
      ".WARNING:inference_training:No files were found in the Training dataset\n",
      "..\n",
      "----------------------------------------------------------------------\n",
      "Ran 4 tests in 0.036s\n",
      "\n",
      "OK\n"
     ]
    },
    {
     "data": {
      "text/plain": [
       "<unittest.runner.TextTestResult run=4 errors=0 failures=0>"
      ]
     },
     "execution_count": 1,
     "metadata": {},
     "output_type": "execute_result"
    }
   ],
   "source": [
    "from unittest import TextTestRunner, defaultTestLoader\n",
    "from testFunctions import TestFunction\n",
    "import logging\n",
    "\n",
    "logging.basicConfig(level=logging.WARNING)\n",
    "\n",
    "TextTestRunner().run(defaultTestLoader.loadTestsFromTestCase(TestFunction))"
   ]
  },
  {
   "cell_type": "code",
   "execution_count": null,
   "id": "e6f73fad-7a1d-4f6f-8d49-ec5ac6989e59",
   "metadata": {},
   "outputs": [],
   "source": []
  }
 ],
 "metadata": {
  "kernelspec": {
   "display_name": "Python 3 (ipykernel)",
   "language": "python",
   "name": "python3"
  },
  "language_info": {
   "codemirror_mode": {
    "name": "ipython",
    "version": 3
   },
   "file_extension": ".py",
   "mimetype": "text/x-python",
   "name": "python",
   "nbconvert_exporter": "python",
   "pygments_lexer": "ipython3",
   "version": "3.11.11"
  }
 },
 "nbformat": 4,
 "nbformat_minor": 5
}
